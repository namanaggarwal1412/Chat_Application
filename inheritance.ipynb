{
 "cells": [
  {
   "cell_type": "code",
   "execution_count": 1,
   "metadata": {},
   "outputs": [
    {
     "name": "stdout",
     "output_type": "stream",
     "text": [
      "Address: kukas\n",
      "Director Name: Arvind\n"
     ]
    }
   ],
   "source": [
    "class Aryaold:\n",
    "    def __init__(self, address, director_name):\n",
    "        self.address = address\n",
    "        self.director_name = director_name\n",
    "\n",
    "    def display_info(self):\n",
    "        print(\"Address:\", self.address)\n",
    "        print(\"Director Name:\", self.director_name)\n",
    "\n",
    "# Creating an object and printing details\n",
    "aryaold_obj = Aryaold(\"kukas\", \"Arvind\")\n",
    "aryaold_obj.display_info()"
   ]
  },
  {
   "cell_type": "code",
   "execution_count": 2,
   "metadata": {},
   "outputs": [
    {
     "name": "stdout",
     "output_type": "stream",
     "text": [
      "hello\n",
      "Arya main\n"
     ]
    }
   ],
   "source": [
    "#inheritance\n",
    "class Arya:\n",
    "    name = \"Arya main\"\n",
    "class Aryaold(Arya):\n",
    "    print(\"hello\")\n",
    "a = Aryaold()\n",
    "print(a.name)    \n",
    "    \n",
    "    "
   ]
  },
  {
   "cell_type": "code",
   "execution_count": 3,
   "metadata": {},
   "outputs": [
    {
     "name": "stdout",
     "output_type": "stream",
     "text": [
      "This is Grandparent class\n",
      "This is Parent class\n",
      "This is Child class inheriting from Parent and Grandparent\n"
     ]
    }
   ],
   "source": [
    "  # multilevel inheritance\n",
    "class Grandparent:\n",
    "    def grandparent_func(self):\n",
    "        print(\"This is Grandparent class\")\n",
    "\n",
    "class Parent(Grandparent):\n",
    "    def parent_func(self):\n",
    "        print(\"This is Parent class\")\n",
    "\n",
    "class Child(Parent):\n",
    "    def child_func(self):\n",
    "        print(\"This is Child class inheriting from Parent and Grandparent\")\n",
    "\n",
    "# Creating an object of Child class\n",
    "child_obj = Child()\n",
    "child_obj.grandparent_func()\n",
    "child_obj.parent_func()\n",
    "child_obj.child_func()"
   ]
  },
  {
   "cell_type": "code",
   "execution_count": 4,
   "metadata": {},
   "outputs": [],
   "source": [
    "#Hybrid \n",
    "class person :\n",
    "    pass\n",
    "class Male(person):\n",
    "    pass\n",
    "class Female(person):\n",
    "    pass\n",
    "class child(Male,Female):\n",
    "    pass"
   ]
  },
  {
   "cell_type": "code",
   "execution_count": 1,
   "metadata": {},
   "outputs": [],
   "source": [
    "#heirarical\n",
    "class naveen:\n",
    "    pass\n",
    "class naman(naveen):\n",
    "    pass\n",
    "class rishi(naveen):\n",
    "    pass\n",
    "class bottle(naveen):\n",
    "    pass"
   ]
  },
  {
   "cell_type": "code",
   "execution_count": 8,
   "metadata": {},
   "outputs": [
    {
     "name": "stdout",
     "output_type": "stream",
     "text": [
      "Arya Main Campus\n"
     ]
    },
    {
     "data": {
      "text/plain": [
       "306"
      ]
     },
     "execution_count": 8,
     "metadata": {},
     "output_type": "execute_result"
    }
   ],
   "source": [
    "class AryaMain:\n",
    "    def __init__(self):\n",
    "        self.__accountno =1234 #private\n",
    "        self. _name =\"Arya\" #protected     #instance variable\n",
    "        self.labno =306  #public\n",
    "class Student(AryaMain):\n",
    "    print(\"Arya Main Campus\")\n",
    "S1=Student() \n",
    "S1.labno\n",
    "#S1.__accountno\n",
    "#S1._name"
   ]
  }
 ],
 "metadata": {
  "kernelspec": {
   "display_name": "Python 3",
   "language": "python",
   "name": "python3"
  },
  "language_info": {
   "codemirror_mode": {
    "name": "ipython",
    "version": 3
   },
   "file_extension": ".py",
   "mimetype": "text/x-python",
   "name": "python",
   "nbconvert_exporter": "python",
   "pygments_lexer": "ipython3",
   "version": "3.11.5"
  }
 },
 "nbformat": 4,
 "nbformat_minor": 2
}
